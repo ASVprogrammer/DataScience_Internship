{
 "cells": [
  {
   "metadata": {
    "ExecuteTime": {
     "end_time": "2024-10-08T15:37:20.640779Z",
     "start_time": "2024-10-08T15:37:18.903216Z"
    }
   },
   "cell_type": "code",
   "source": [
    "import pandas as pd\n",
    "import matplotlib.pyplot as plt\n",
    "import seaborn as sns\n",
    "from sklearn.preprocessing import MinMaxScaler\n",
    "from sklearn.model_selection import train_test_split\n",
    "from sklearn.metrics import accuracy_score, precision_score, recall_score, f1_score, roc_auc_score\n",
    "from sklearn.linear_model import LogisticRegression\n",
    "from sklearn.tree import DecisionTreeClassifier\n",
    "from sklearn.ensemble import RandomForestClassifier"
   ],
   "id": "47928dedcab9de2d",
   "outputs": [],
   "execution_count": 1
  },
  {
   "metadata": {},
   "cell_type": "code",
   "source": [
    "file_path = 'adult_invome.csv'\n",
    "df = pd.read_csv(file_path)\n",
    "\n",
    "df.replace('?', pd.NA, inplace=True)\n",
    "\n",
    "df_cleaned = df.dropna()\n",
    "\n",
    "df_cleaned = df_cleaned.drop_duplicates()\n",
    "\n",
    "df_encoded = pd.get_dummies(df_cleaned, drop_first=True)\n",
    "\n",
    "scaler = MinMaxScaler()\n",
    "df_encoded[['age', 'capital-gain', 'capital-loss', 'hours-per-week']] = scaler.fit_transform(\n",
    "    df_encoded[['age', 'capital-gain', 'capital-loss', 'hours-per-week']]\n",
    ")\n",
    "\n",
    "# Check for 'income_>50K' column existence\n",
    "if 'income_>50K' not in df_encoded.columns:\n",
    "    raise ValueError(\"Target column 'income_>50K' is missing after encoding!\")\n",
    "\n",
    "plt.figure(figsize=(12, 8))\n",
    "correlation_matrix = df_encoded.corr()\n",
    "sns.heatmap(correlation_matrix, annot=False, cmap='coolwarm')\n",
    "plt.title('Correlation Heatmap')\n",
    "plt.show()\n",
    "\n",
    "plt.figure(figsize=(8, 5))\n",
    "sns.boxplot(x='age', data=df_cleaned)\n",
    "plt.title('Age Distribution and Outliers')\n",
    "plt.show()\n",
    "\n",
    "df.to_csv('cleaned.csv', index=False)\n"
   ],
   "id": "4078cb83f3e97c13",
   "outputs": [],
   "execution_count": null
  },
  {
   "metadata": {
    "ExecuteTime": {
     "end_time": "2024-10-08T15:37:34.655722Z",
     "start_time": "2024-10-08T15:37:34.626106Z"
    }
   },
   "cell_type": "code",
   "source": [
    "df_sampled = df_encoded.sample(frac=0.1, random_state=42)  \n",
    "X = df_sampled.drop(columns=['income_>50K'])  \n",
    "y = df_sampled['income_>50K'] \n",
    "\n",
    "X_train, X_val, y_train, y_val = train_test_split(X, y, test_size=0.2, random_state=42)"
   ],
   "id": "174b1d971030dffd",
   "outputs": [],
   "execution_count": 3
  },
  {
   "metadata": {
    "ExecuteTime": {
     "end_time": "2024-10-08T15:37:43.373601Z",
     "start_time": "2024-10-08T15:37:43.353590Z"
    }
   },
   "cell_type": "code",
   "source": [
    "models = {\n",
    "    'Logistic Regression': LogisticRegression(max_iter=1000),\n",
    "    'Decision Tree': DecisionTreeClassifier(max_depth=5),  \n",
    "    'Random Forest': RandomForestClassifier(n_estimators=10),  \n",
    "}"
   ],
   "id": "9d3043eec951ec51",
   "outputs": [],
   "execution_count": 4
  },
  {
   "metadata": {
    "ExecuteTime": {
     "end_time": "2024-10-08T15:37:49.308802Z",
     "start_time": "2024-10-08T15:37:49.298443Z"
    }
   },
   "cell_type": "code",
   "source": [
    "def evaluate_model(model, X_train, y_train, X_val, y_val):\n",
    "    model.fit(X_train, y_train)\n",
    "    y_pred = model.predict(X_val)\n",
    "    y_pred_proba = model.predict_proba(X_val)[:, 1] if hasattr(model, \"predict_proba\") else None\n",
    "    \n",
    "    accuracy = accuracy_score(y_val, y_pred)\n",
    "    precision = precision_score(y_val, y_pred)\n",
    "    recall = recall_score(y_val, y_pred)\n",
    "    f1 = f1_score(y_val, y_pred)\n",
    "    roc_auc = roc_auc_score(y_val, y_pred_proba) if y_pred_proba is not None else None\n",
    "    \n",
    "    return {\n",
    "        'Accuracy': accuracy,\n",
    "        'Precision': precision,\n",
    "        'Recall': recall,\n",
    "        'F1-Score': f1,\n",
    "        'ROC-AUC': roc_auc\n",
    "    }"
   ],
   "id": "4686976bb68045a0",
   "outputs": [],
   "execution_count": 5
  },
  {
   "metadata": {},
   "cell_type": "code",
   "source": [
    "performance_results = {}\n",
    "\n",
    "for model_name, model in models.items():\n",
    "    performance_results[model_name] = evaluate_model(model, X_train, y_train, X_val, y_val)\n",
    "\n",
    "performance_df = pd.DataFrame(performance_results).T\n",
    "performance_df = performance_df.reset_index()\n",
    "performance_df.columns = ['Model', 'Accuracy', 'Precision', 'Recall', 'F1-Score', 'ROC-AUC']\n",
    "\n",
    "# Display the performance measures\n",
    "print(performance_df)\n",
    "\n",
    "# Optionally, plot the performance measures\n",
    "performance_df.set_index('Model').plot(kind='bar', figsize=(12, 6))\n",
    "plt.title('Model Performance Comparison')\n",
    "plt.ylabel('Scores')\n",
    "plt.xticks(rotation=45)\n",
    "plt.legend(loc='lower right')\n",
    "plt.show()"
   ],
   "id": "608d3d9328f4cac8",
   "outputs": [],
   "execution_count": null
  },
  {
   "metadata": {},
   "cell_type": "code",
   "source": "",
   "id": "6048a011ce663071",
   "outputs": [],
   "execution_count": null
  }
 ],
 "metadata": {
  "kernelspec": {
   "display_name": "Python 3",
   "language": "python",
   "name": "python3"
  },
  "language_info": {
   "codemirror_mode": {
    "name": "ipython",
    "version": 2
   },
   "file_extension": ".py",
   "mimetype": "text/x-python",
   "name": "python",
   "nbconvert_exporter": "python",
   "pygments_lexer": "ipython2",
   "version": "2.7.6"
  }
 },
 "nbformat": 4,
 "nbformat_minor": 5
}
